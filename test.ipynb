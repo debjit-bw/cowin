{
 "metadata": {
  "language_info": {
   "codemirror_mode": {
    "name": "ipython",
    "version": 3
   },
   "file_extension": ".py",
   "mimetype": "text/x-python",
   "name": "python",
   "nbconvert_exporter": "python",
   "pygments_lexer": "ipython3",
   "version": "3.8.5"
  },
  "orig_nbformat": 2,
  "kernelspec": {
   "name": "python385jvsc74a57bd09413ecba12c8d30d71729b19a0b593a81253692ec7bc6aed5a642efcc0099d68",
   "display_name": "Python 3.8.5 64-bit ('slf': conda)"
  }
 },
 "nbformat": 4,
 "nbformat_minor": 2,
 "cells": [
  {
   "cell_type": "code",
   "execution_count": 1,
   "metadata": {},
   "outputs": [],
   "source": [
    "import json"
   ]
  },
  {
   "cell_type": "code",
   "execution_count": 72,
   "metadata": {},
   "outputs": [],
   "source": [
    "with open('./districts_ii.json') as f:\n",
    "    d_ii = json.load(f)"
   ]
  },
  {
   "source": [
    "with open('./district_state.json', mode = \"w\") as jsf:\n",
    "    jso = json.dumps(d_s, indent = 4)\n",
    "    jsf.write(jso)"
   ],
   "cell_type": "code",
   "metadata": {},
   "execution_count": 70,
   "outputs": []
  },
  {
   "cell_type": "code",
   "execution_count": null,
   "metadata": {},
   "outputs": [],
   "source": []
  },
  {
   "cell_type": "code",
   "execution_count": 3,
   "metadata": {},
   "outputs": [],
   "source": [
    "import requests"
   ]
  },
  {
   "cell_type": "code",
   "execution_count": 4,
   "metadata": {},
   "outputs": [],
   "source": [
    "def cook(URL):\n",
    "    headers = {'User-Agent':'Mozilla/5.0 (X11; Linux x86_64) AppleWebKit/537.36 (KHTML, like Gecko) Chrome/47.0.2526.106 Safari/537.36'}\n",
    "    page = requests.get(URL, headers=headers)\n",
    "    return page"
   ]
  },
  {
   "cell_type": "code",
   "execution_count": 5,
   "metadata": {},
   "outputs": [],
   "source": [
    "states = cook('https://cdn-api.co-vin.in/api/v2/admin/location/states')"
   ]
  },
  {
   "cell_type": "code",
   "execution_count": 6,
   "metadata": {},
   "outputs": [],
   "source": [
    "sts = states.json()"
   ]
  },
  {
   "cell_type": "code",
   "execution_count": 7,
   "metadata": {},
   "outputs": [
    {
     "output_type": "execute_result",
     "data": {
      "text/plain": [
       "list"
      ]
     },
     "metadata": {},
     "execution_count": 7
    }
   ],
   "source": [
    "type(sts[\"states\"])"
   ]
  },
  {
   "cell_type": "code",
   "execution_count": 9,
   "metadata": {},
   "outputs": [
    {
     "output_type": "execute_result",
     "data": {
      "text/plain": [
       "{'state_id': 1, 'state_name': 'Andaman and Nicobar Islands'}"
      ]
     },
     "metadata": {},
     "execution_count": 9
    }
   ],
   "source": [
    "sts[\"states\"][0]"
   ]
  },
  {
   "cell_type": "code",
   "execution_count": 22,
   "metadata": {},
   "outputs": [
    {
     "output_type": "stream",
     "name": "stdout",
     "text": [
      "Wall time: 0 ns\n"
     ]
    }
   ],
   "source": [
    "%%time\n",
    "iindex = {}\n",
    "for state in sts[\"states\"]:\n",
    "    words = [word.lower() for word in state[\"state_name\"].split(' ') if len(word) > 1]\n",
    "    for word in words:\n",
    "        if word in iindex:\n",
    "            iindex[word].append(state[\"state_id\"])\n",
    "        else:\n",
    "            iindex[word] = [state[\"state_id\"]]\n",
    "#for key in iindex.keys():\n",
    "#    iindex[key] = set(iindex[key])\n",
    "del iindex[\"and\"]"
   ]
  },
  {
   "cell_type": "code",
   "execution_count": 33,
   "metadata": {},
   "outputs": [
    {
     "output_type": "stream",
     "name": "stdout",
     "text": [
      "Wall time: 4.01 ms\n"
     ]
    }
   ],
   "source": [
    "%%time\n",
    "iindex = {}\n",
    "for district in alld:\n",
    "    words = [word.lower() for word in district[\"district_name\"].split(' ') if len(word) > 1]\n",
    "    for word in words:\n",
    "        if word in iindex:\n",
    "            iindex[word].append(district[\"district_id\"])\n",
    "        else:\n",
    "            iindex[word] = [district[\"district_id\"]]\n",
    "#for key in iindex.keys():\n",
    "#    iindex[key] = set(iindex[key])\n",
    "#del iindex[\"and\"]"
   ]
  },
  {
   "cell_type": "code",
   "execution_count": 32,
   "metadata": {},
   "outputs": [
    {
     "output_type": "execute_result",
     "data": {
      "text/plain": [
       "{'district_id': 3, 'district_name': 'Nicobar'}"
      ]
     },
     "metadata": {},
     "execution_count": 32
    }
   ],
   "source": [
    "alld[0]"
   ]
  },
  {
   "cell_type": "code",
   "execution_count": 11,
   "metadata": {},
   "outputs": [
    {
     "output_type": "execute_result",
     "data": {
      "text/plain": [
       "dict_keys(['andaman', 'nicobar', 'islands', 'andhra', 'pradesh', 'arunachal', 'assam', 'bihar', 'chandigarh', 'chhattisgarh', 'dadra', 'nagar', 'haveli', 'daman', 'diu', 'delhi', 'goa', 'gujarat', 'haryana', 'himachal', 'jammu', 'kashmir', 'jharkhand', 'karnataka', 'kerala', 'ladakh', 'lakshadweep', 'madhya', 'maharashtra', 'manipur', 'meghalaya', 'mizoram', 'nagaland', 'odisha', 'puducherry', 'punjab', 'rajasthan', 'sikkim', 'tamil', 'nadu', 'telangana', 'tripura', 'uttar', 'uttarakhand', 'west', 'bengal'])"
      ]
     },
     "metadata": {},
     "execution_count": 11
    }
   ],
   "source": [
    "iindex.keys()"
   ]
  },
  {
   "cell_type": "code",
   "execution_count": 83,
   "metadata": {},
   "outputs": [],
   "source": [
    "def ii_finder(phrase, iindex):\n",
    "    keys = iindex.keys()\n",
    "    if type(phrase) == list:\n",
    "        words = phrase\n",
    "    else:\n",
    "        words = [word.lower() for word in phrase.lower().split(' ') if len(word) > 1]\n",
    "    cands = []\n",
    "    non = []\n",
    "    for word in words:\n",
    "        if word in keys:\n",
    "            #print(word)\n",
    "            cands.append(set(iindex[word]))\n",
    "        else:\n",
    "            non.append(word)\n",
    "    if len(cands) == 0:\n",
    "        return (None, non)\n",
    "    elif len(cands) == 1:\n",
    "        return (list(cands[0]), non)\n",
    "    else:\n",
    "        for c in cands[1:]:\n",
    "            cands[0] = cands[0] & c\n",
    "        return (list(cands[0]), non)"
   ]
  },
  {
   "cell_type": "code",
   "execution_count": 86,
   "metadata": {},
   "outputs": [
    {
     "output_type": "execute_result",
     "data": {
      "text/plain": [
       "([505, 506], ['live', 'in'])"
      ]
     },
     "metadata": {},
     "execution_count": 86
    }
   ],
   "source": [
    "ii_finder(\"I live in jaipur\", d_ii)"
   ]
  },
  {
   "cell_type": "code",
   "execution_count": 87,
   "metadata": {},
   "outputs": [
    {
     "output_type": "execute_result",
     "data": {
      "text/plain": [
       "{'state_id': 29, 'state_name': 'Rajasthan', 'district_name': 'Jaipur I'}"
      ]
     },
     "metadata": {},
     "execution_count": 87
    }
   ],
   "source": [
    "d_s[\"505\"]"
   ]
  },
  {
   "cell_type": "code",
   "execution_count": 13,
   "metadata": {},
   "outputs": [
    {
     "output_type": "stream",
     "name": "stdout",
     "text": [
      "nagar\n"
     ]
    },
    {
     "output_type": "execute_result",
     "data": {
      "text/plain": [
       "[8]"
      ]
     },
     "metadata": {},
     "execution_count": 13
    }
   ],
   "source": [
    "statefinder('i live in nagar', iindex)"
   ]
  },
  {
   "cell_type": "code",
   "execution_count": 39,
   "metadata": {},
   "outputs": [
    {
     "output_type": "execute_result",
     "data": {
      "text/plain": [
       "{'state_id': 37, 'state_name': 'Daman and Diu'}"
      ]
     },
     "metadata": {},
     "execution_count": 39
    }
   ],
   "source": [
    "sts[\"states\"][8]"
   ]
  },
  {
   "cell_type": "code",
   "execution_count": 18,
   "metadata": {},
   "outputs": [
    {
     "output_type": "execute_result",
     "data": {
      "text/plain": [
       "37"
      ]
     },
     "metadata": {},
     "execution_count": 18
    }
   ],
   "source": [
    "len(sts[\"states\"])"
   ]
  },
  {
   "cell_type": "code",
   "execution_count": 19,
   "metadata": {},
   "outputs": [],
   "source": [
    "districts = {}\n",
    "for i in range(1, 38):\n",
    "    districts[str(i)] = cook(\"https://cdn-api.co-vin.in/api/v2/admin/location/districts/\" + str(i)).json()"
   ]
  },
  {
   "cell_type": "code",
   "execution_count": 24,
   "metadata": {},
   "outputs": [
    {
     "output_type": "execute_result",
     "data": {
      "text/plain": [
       "dict_keys(['1', '2', '3', '4', '5', '6', '7', '8', '9', '10', '11', '12', '13', '14', '15', '16', '17', '18', '19', '20', '21', '22', '23', '24', '25', '26', '27', '28', '29', '30', '31', '32', '33', '34', '35', '36', '37'])"
      ]
     },
     "metadata": {},
     "execution_count": 24
    }
   ],
   "source": [
    "districts.keys()"
   ]
  },
  {
   "cell_type": "code",
   "execution_count": 29,
   "metadata": {},
   "outputs": [],
   "source": [
    "alld = []\n",
    "for i in range(1, 38):\n",
    "    alld += districts[str(i)][\"districts\"]"
   ]
  },
  {
   "cell_type": "code",
   "execution_count": 30,
   "metadata": {},
   "outputs": [
    {
     "output_type": "execute_result",
     "data": {
      "text/plain": [
       "756"
      ]
     },
     "metadata": {},
     "execution_count": 30
    }
   ],
   "source": [
    "len(alld)"
   ]
  },
  {
   "cell_type": "code",
   "execution_count": 52,
   "metadata": {},
   "outputs": [
    {
     "output_type": "execute_result",
     "data": {
      "text/plain": [
       "[{'state_id': 1, 'state_name': 'Andaman and Nicobar Islands'},\n",
       " {'state_id': 2, 'state_name': 'Andhra Pradesh'},\n",
       " {'state_id': 3, 'state_name': 'Arunachal Pradesh'},\n",
       " {'state_id': 4, 'state_name': 'Assam'},\n",
       " {'state_id': 5, 'state_name': 'Bihar'},\n",
       " {'state_id': 6, 'state_name': 'Chandigarh'},\n",
       " {'state_id': 7, 'state_name': 'Chhattisgarh'},\n",
       " {'state_id': 8, 'state_name': 'Dadra and Nagar Haveli'},\n",
       " {'state_id': 37, 'state_name': 'Daman and Diu'},\n",
       " {'state_id': 9, 'state_name': 'Delhi'},\n",
       " {'state_id': 10, 'state_name': 'Goa'},\n",
       " {'state_id': 11, 'state_name': 'Gujarat'},\n",
       " {'state_id': 12, 'state_name': 'Haryana'},\n",
       " {'state_id': 13, 'state_name': 'Himachal Pradesh'},\n",
       " {'state_id': 14, 'state_name': 'Jammu and Kashmir'},\n",
       " {'state_id': 15, 'state_name': 'Jharkhand'},\n",
       " {'state_id': 16, 'state_name': 'Karnataka'},\n",
       " {'state_id': 17, 'state_name': 'Kerala'},\n",
       " {'state_id': 18, 'state_name': 'Ladakh'},\n",
       " {'state_id': 19, 'state_name': 'Lakshadweep'},\n",
       " {'state_id': 20, 'state_name': 'Madhya Pradesh'},\n",
       " {'state_id': 21, 'state_name': 'Maharashtra'},\n",
       " {'state_id': 22, 'state_name': 'Manipur'},\n",
       " {'state_id': 23, 'state_name': 'Meghalaya'},\n",
       " {'state_id': 24, 'state_name': 'Mizoram'},\n",
       " {'state_id': 25, 'state_name': 'Nagaland'},\n",
       " {'state_id': 26, 'state_name': 'Odisha'},\n",
       " {'state_id': 27, 'state_name': 'Puducherry'},\n",
       " {'state_id': 28, 'state_name': 'Punjab'},\n",
       " {'state_id': 29, 'state_name': 'Rajasthan'},\n",
       " {'state_id': 30, 'state_name': 'Sikkim'},\n",
       " {'state_id': 31, 'state_name': 'Tamil Nadu'},\n",
       " {'state_id': 32, 'state_name': 'Telangana'},\n",
       " {'state_id': 33, 'state_name': 'Tripura'},\n",
       " {'state_id': 34, 'state_name': 'Uttar Pradesh'},\n",
       " {'state_id': 35, 'state_name': 'Uttarakhand'},\n",
       " {'state_id': 36, 'state_name': 'West Bengal'}]"
      ]
     },
     "metadata": {},
     "execution_count": 52
    }
   ],
   "source": [
    "sts['states']"
   ]
  },
  {
   "cell_type": "code",
   "execution_count": 57,
   "metadata": {},
   "outputs": [
    {
     "output_type": "execute_result",
     "data": {
      "text/plain": [
       "{'districts': [{'district_id': 3, 'district_name': 'Nicobar'},\n",
       "  {'district_id': 1, 'district_name': 'North and Middle Andaman'},\n",
       "  {'district_id': 2, 'district_name': 'South Andaman'}],\n",
       " 'ttl': 24}"
      ]
     },
     "metadata": {},
     "execution_count": 57
    }
   ],
   "source": [
    "districts['1']"
   ]
  },
  {
   "cell_type": "code",
   "execution_count": 60,
   "metadata": {},
   "outputs": [
    {
     "output_type": "execute_result",
     "data": {
      "text/plain": [
       "dict_keys(['1', '2', '3', '4', '5', '6', '7', '8', '9', '10', '11', '12', '13', '14', '15', '16', '17', '18', '19', '20', '21', '22', '23', '24', '25', '26', '27', '28', '29', '30', '31', '32', '33', '34', '35', '36', '37'])"
      ]
     },
     "metadata": {},
     "execution_count": 60
    }
   ],
   "source": [
    "districts.keys()"
   ]
  },
  {
   "cell_type": "code",
   "execution_count": 68,
   "metadata": {
    "tags": []
   },
   "outputs": [],
   "source": [
    "d_s = {}\n",
    "for state in sts['states']:\n",
    "    #print(districts[str(state[\"state_id\"])])\n",
    "    for district in districts[str(state[\"state_id\"])][\"districts\"]:\n",
    "        #print(district)\n",
    "        d_s[str(district[\"district_id\"])] = dict(state)\n",
    "        d_s[str(district[\"district_id\"])][\"district_name\"] = district[\"district_name\"]"
   ]
  },
  {
   "cell_type": "code",
   "execution_count": 69,
   "metadata": {},
   "outputs": [
    {
     "output_type": "execute_result",
     "data": {
      "text/plain": [
       "{'state_id': 36, 'state_name': 'West Bengal', 'district_name': 'Kolkata'}"
      ]
     },
     "metadata": {},
     "execution_count": 69
    }
   ],
   "source": [
    "d_s['725']"
   ]
  },
  {
   "cell_type": "code",
   "execution_count": null,
   "metadata": {},
   "outputs": [],
   "source": []
  },
  {
   "cell_type": "code",
   "execution_count": 81,
   "metadata": {},
   "outputs": [
    {
     "output_type": "stream",
     "name": "stdout",
     "text": [
      "west\nbengal\n"
     ]
    }
   ],
   "source": [
    "(ind, non) = ii_finder(\"i live in kolkata west bengal\", s_ii)"
   ]
  },
  {
   "cell_type": "code",
   "execution_count": 82,
   "metadata": {},
   "outputs": [
    {
     "output_type": "stream",
     "name": "stdout",
     "text": [
      "kolkata\n"
     ]
    },
    {
     "output_type": "execute_result",
     "data": {
      "text/plain": [
       "([725], ['live', 'in'])"
      ]
     },
     "metadata": {},
     "execution_count": 82
    }
   ],
   "source": [
    "ii_finder(non, d_ii)"
   ]
  },
  {
   "cell_type": "code",
   "execution_count": 88,
   "metadata": {},
   "outputs": [],
   "source": [
    "with open('./district_state.json') as f:\n",
    "    d_s = json.load(f)"
   ]
  },
  {
   "cell_type": "code",
   "execution_count": 89,
   "metadata": {},
   "outputs": [
    {
     "output_type": "execute_result",
     "data": {
      "text/plain": [
       "36"
      ]
     },
     "metadata": {},
     "execution_count": 89
    }
   ],
   "source": [
    "d_s[str(725)][\"state_id\"]"
   ]
  },
  {
   "cell_type": "code",
   "execution_count": 1,
   "metadata": {},
   "outputs": [],
   "source": [
    "from pkg.main import parser"
   ]
  },
  {
   "cell_type": "code",
   "execution_count": 2,
   "metadata": {},
   "outputs": [],
   "source": [
    "p = parser()"
   ]
  },
  {
   "cell_type": "code",
   "execution_count": 3,
   "metadata": {},
   "outputs": [
    {
     "output_type": "execute_result",
     "data": {
      "text/plain": [
       "492"
      ]
     },
     "metadata": {},
     "execution_count": 3
    }
   ],
   "source": [
    "p.get_dis_code(\"I live in jalandhar, punjab\")"
   ]
  },
  {
   "cell_type": "code",
   "execution_count": null,
   "metadata": {},
   "outputs": [],
   "source": []
  }
 ]
}